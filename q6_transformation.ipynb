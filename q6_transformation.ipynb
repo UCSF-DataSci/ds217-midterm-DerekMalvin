{
 "cells": [
  {
   "cell_type": "markdown",
   "metadata": {},
   "source": [
    "# Assignment 5, Question 6: Data Transformation\n",
    "\n",
    "**Points: 20**\n",
    "\n",
    "Transform and engineer features from the clinical trial dataset."
   ]
  },
  {
   "cell_type": "markdown",
   "metadata": {},
   "source": [
    "## Setup"
   ]
  },
  {
   "cell_type": "code",
   "execution_count": 1,
   "metadata": {},
   "outputs": [
    {
     "name": "stdout",
     "output_type": "stream",
     "text": [
      "Loaded 10000 patients\n"
     ]
    }
   ],
   "source": [
    "import pandas as pd\n",
    "import numpy as np\n",
    "import matplotlib.pyplot as plt\n",
    "\n",
    "# Import utilities\n",
    "from q3_data_utils import load_data, clean_data, transform_types, create_bins, fill_missing\n",
    "\n",
    "df = load_data('data/clinical_trial_raw.csv')\n",
    "print(f\"Loaded {len(df)} patients\")\n",
    "\n",
    "# Prewritten visualization functions for transformation analysis\n",
    "def plot_distribution(series, title, figsize=(10, 6)):\n",
    "    \"\"\"\n",
    "    Create a histogram of a numeric series.\n",
    "    \n",
    "    Args:\n",
    "        series: pandas Series with numeric data\n",
    "        title: Chart title\n",
    "        figsize: Figure size tuple\n",
    "    \"\"\"\n",
    "    plt.figure(figsize=figsize)\n",
    "    series.hist(bins=30)\n",
    "    plt.title(title)\n",
    "    plt.xlabel('Value')\n",
    "    plt.ylabel('Frequency')\n",
    "    plt.tight_layout()\n",
    "    plt.show()\n",
    "\n",
    "def plot_value_counts(series, title, figsize=(10, 6)):\n",
    "    \"\"\"\n",
    "    Create a bar chart of value counts.\n",
    "    \n",
    "    Args:\n",
    "        series: pandas Series with value counts\n",
    "        title: Chart title\n",
    "        figsize: Figure size tuple\n",
    "    \"\"\"\n",
    "    plt.figure(figsize=figsize)\n",
    "    series.plot(kind='bar')\n",
    "    plt.title(title)\n",
    "    plt.xticks(rotation=45)\n",
    "    plt.tight_layout()\n",
    "    plt.show()"
   ]
  },
  {
   "cell_type": "markdown",
   "metadata": {},
   "source": [
    "## Part 1: Type Conversions (5 points)\n",
    "\n",
    "1. Convert 'enrollment_date' to datetime using the `transform_types()` utility\n",
    "2. Convert categorical columns ('site', 'intervention_group', 'sex') to category dtype\n",
    "3. Ensure all numeric columns are proper numeric types\n",
    "4. Display the updated dtypes"
   ]
  },
  {
   "cell_type": "code",
   "execution_count": 3,
   "metadata": {},
   "outputs": [
    {
     "name": "stdout",
     "output_type": "stream",
     "text": [
      "Updated data types:\n",
      "patient_id                    object\n",
      "age                            int64\n",
      "sex                         category\n",
      "bmi                          float64\n",
      "enrollment_date       datetime64[ns]\n",
      "systolic_bp                  float64\n",
      "diastolic_bp                 float64\n",
      "cholesterol_total            float64\n",
      "cholesterol_hdl              float64\n",
      "cholesterol_ldl              float64\n",
      "glucose_fasting              float64\n",
      "site                        category\n",
      "intervention_group          category\n",
      "follow_up_months               int64\n",
      "adverse_events                 int64\n",
      "outcome_cvd                   object\n",
      "adherence_pct                float64\n",
      "dropout                       object\n",
      "dtype: object\n"
     ]
    }
   ],
   "source": [
    "# TODO: Type conversions\n",
    "# 1. Use transform_types() to convert enrollment_date to datetime\n",
    "\n",
    "df = transform_types(df, {'enrollment_date': 'datetime'})\n",
    "\n",
    "# 2. Convert categorical columns ('site', 'intervention_group', 'sex') to category dtype\n",
    "\n",
    "categorical_columns = ['site', 'intervention_group', 'sex']\n",
    "for col in categorical_columns:\n",
    "    df = transform_types(df, {col: 'category'})\n",
    "\n",
    "# 3. Ensure all numeric columns are proper numeric types\n",
    "\n",
    "numeric_columns = df.select_dtypes(include=[np.number]).columns.tolist()\n",
    "for col in numeric_columns:\n",
    "    df = transform_types(df, {col: 'numeric'})\n",
    "\n",
    "# 4. Display the updated dtypes using df.dtypes\n",
    "\n",
    "print(\"Updated data types:\")\n",
    "print(df.dtypes)"
   ]
  },
  {
   "cell_type": "markdown",
   "metadata": {},
   "source": [
    "## Part 2: Feature Engineering (8 points)\n",
    "\n",
    "Create these new calculated columns:\n",
    "\n",
    "1. `cholesterol_ratio` = cholesterol_ldl / cholesterol_hdl\n",
    "2. `bp_category` = categorize systolic BP:\n",
    "   - 'Normal': < 120\n",
    "   - 'Elevated': 120-129\n",
    "   - 'High': >= 130\n",
    "3. `age_group` using `create_bins()` utility:\n",
    "   - Bins: [0, 40, 55, 70, 100]\n",
    "   - Labels: ['<40', '40-54', '55-69', '70+']\n",
    "4. `bmi_category` using standard BMI categories:\n",
    "   - Underweight: <18.5\n",
    "   - Normal: 18.5-24.9\n",
    "   - Overweight: 25-29.9\n",
    "   - Obese: >=30"
   ]
  },
  {
   "cell_type": "code",
   "execution_count": 4,
   "metadata": {},
   "outputs": [],
   "source": [
    "# TODO: Calculate cholesterol ratio\n",
    "df['cholesterol_ratio'] = df['cholesterol_ldl'] / df['cholesterol_hdl']"
   ]
  },
  {
   "cell_type": "code",
   "execution_count": 5,
   "metadata": {},
   "outputs": [],
   "source": [
    "# TODO: Categorize blood pressure\n",
    "def categorize_bp(systolic):\n",
    "    if systolic < 120:\n",
    "        return 'Normal'\n",
    "    elif systolic < 130:\n",
    "        return 'Elevated'\n",
    "    else:\n",
    "        return 'High'\n",
    "df['bp_category'] = df['systolic_bp'].apply(categorize_bp)"
   ]
  },
  {
   "cell_type": "markdown",
   "metadata": {},
   "source": [
    "**Note:** The `create_bins()` function has an optional `new_column` parameter. If you don't specify it, the new column will be named `{original_column}_binned`. You can use `new_column='age_group'` to give it a custom name.\n"
   ]
  },
  {
   "cell_type": "code",
   "execution_count": 6,
   "metadata": {},
   "outputs": [],
   "source": [
    "# TODO: Create age groups\n",
    "df = create_bins(\n",
    "    df,\n",
    "    column='age',\n",
    "    bins=[0, 40, 55, 70, 100],\n",
    "    labels=['<40', '40-54', '55-69', '70+'],\n",
    "    new_column='age_group'\n",
    ")"
   ]
  },
  {
   "cell_type": "code",
   "execution_count": 7,
   "metadata": {},
   "outputs": [
    {
     "name": "stdout",
     "output_type": "stream",
     "text": [
      "New columns created:\n",
      "cholesterol_ratio\n",
      "bp_category\n",
      "age_group\n",
      "bmi_category\n"
     ]
    }
   ],
   "source": [
    "# TODO: Create BMI categories\n",
    "def categorize_bmi(bmi):\n",
    "    if bmi < 18.5:\n",
    "        return 'Underweight'\n",
    "    elif bmi < 25:\n",
    "        return 'Normal'\n",
    "    elif bmi < 30:\n",
    "        return 'Overweight'\n",
    "    else:\n",
    "        return 'Obese'\n",
    "\n",
    "df['bmi_category'] = df['bmi'].apply(categorize_bmi)\n",
    "\n",
    "print(\"New columns created:\")\n",
    "print(f\"cholesterol_ratio\")\n",
    "print(f\"bp_category\")\n",
    "print(f\"age_group\")\n",
    "print(f\"bmi_category\")"
   ]
  },
  {
   "cell_type": "markdown",
   "metadata": {},
   "source": [
    "## Part 3: String Cleaning (2 points)\n",
    "\n",
    "If there are any string columns that need cleaning:\n",
    "1. Convert to lowercase\n",
    "2. Strip whitespace\n",
    "3. Replace any placeholder values"
   ]
  },
  {
   "cell_type": "code",
   "execution_count": 8,
   "metadata": {},
   "outputs": [],
   "source": [
    "# TODO: String cleaning\n",
    "string_columns = df.select_dtypes(include=['object']).columns.tolist()\n",
    "for col in string_columns:\n",
    "    df[col] = df[col].str.lower().str.strip()\n",
    "    df[col] = df[col].replace(['n/a', 'na', 'none', 'null', ''], np.nan)"
   ]
  },
  {
   "cell_type": "markdown",
   "metadata": {},
   "source": [
    "## Part 4: One-Hot Encoding (5 points)\n",
    "\n",
    "Create dummy variables for categorical columns:\n",
    "1. One-hot encode 'intervention_group' using `pd.get_dummies()`\n",
    "2. One-hot encode 'site'\n",
    "3. Drop the original categorical columns\n",
    "4. Show the new shape and column names"
   ]
  },
  {
   "cell_type": "code",
   "execution_count": 9,
   "metadata": {},
   "outputs": [
    {
     "name": "stdout",
     "output_type": "stream",
     "text": [
      "New shape: (10000, 80)\n",
      "New columns: ['patient_id', 'age', 'sex', 'bmi', 'enrollment_date', 'systolic_bp', 'diastolic_bp', 'cholesterol_total', 'cholesterol_hdl', 'cholesterol_ldl', 'glucose_fasting', 'follow_up_months', 'adverse_events', 'outcome_cvd', 'adherence_pct', 'dropout', 'cholesterol_ratio', 'bp_category', 'age_group', 'bmi_category', 'intervention_  CONTROL  ', 'intervention_  Contrl  ', 'intervention_  Control  ', 'intervention_  TREATMENT A  ', 'intervention_  TREATMENT B  ', 'intervention_  Treatmen A  ', 'intervention_  Treatment  B  ', 'intervention_  Treatment A  ', 'intervention_  Treatment B  ', 'intervention_  TreatmentA  ', 'intervention_  control  ', 'intervention_  treatment a  ', 'intervention_  treatment b  ', 'intervention_CONTROL', 'intervention_Contrl', 'intervention_Control', 'intervention_TREATMENT A', 'intervention_TREATMENT B', 'intervention_Treatmen A', 'intervention_Treatment  B', 'intervention_Treatment A', 'intervention_Treatment B', 'intervention_TreatmentA', 'intervention_control', 'intervention_treatment a', 'intervention_treatment b', 'site_  SITE A  ', 'site_  SITE B  ', 'site_  SITE C  ', 'site_  SITE D  ', 'site_  SITE E  ', 'site_  Site  A  ', 'site_  Site A  ', 'site_  Site B  ', 'site_  Site C  ', 'site_  Site D  ', 'site_  Site E  ', 'site_  Site_D  ', 'site_  site a  ', 'site_  site b  ', 'site_  site c  ', 'site_  site d  ', 'site_  site e  ', 'site_SITE A', 'site_SITE B', 'site_SITE C', 'site_SITE D', 'site_SITE E', 'site_Site  A', 'site_Site A', 'site_Site B', 'site_Site C', 'site_Site D', 'site_Site E', 'site_Site_D', 'site_site a', 'site_site b', 'site_site c', 'site_site d', 'site_site e']\n"
     ]
    }
   ],
   "source": [
    "# TODO: One-hot encoding\n",
    "# 1. One-hot encode 'intervention_group' using pd.get_dummies()\n",
    "intervention_dummies = pd.get_dummies(df['intervention_group'], prefix='intervention')\n",
    "\n",
    "# 2. One-hot encode 'site'\n",
    "site_dummies = pd.get_dummies(df['site'], prefix='site')\n",
    "\n",
    "# 3. Drop the original categorical columns\n",
    "df = df.drop(['intervention_group', 'site'], axis=1)\n",
    "df = pd.concat([df, intervention_dummies, site_dummies], axis=1)\n",
    "\n",
    "# 4. Show the new shape and column names\n",
    "print(f\"New shape: {df.shape}\")\n",
    "print(f\"New columns: {list(df.columns)}\")"
   ]
  },
  {
   "cell_type": "markdown",
   "metadata": {},
   "source": [
    "## Part 5: Save Transformed Data\n",
    "\n",
    "Save the fully transformed dataset to `output/q6_transformed_data.csv`"
   ]
  },
  {
   "cell_type": "code",
   "execution_count": 11,
   "metadata": {},
   "outputs": [
    {
     "name": "stdout",
     "output_type": "stream",
     "text": [
      "Transformed data saved to 'output/q6_transformed_data.csv'\n"
     ]
    }
   ],
   "source": [
    "# TODO: Save transformed data\n",
    "# df_transformed.to_csv('output/q6_transformed_data.csv', index=False)\n",
    "df.to_csv('output/q6_transformed_data.csv', index=False)\n",
    "print(f\"Transformed data saved to 'output/q6_transformed_data.csv'\")"
   ]
  }
 ],
 "metadata": {
  "kernelspec": {
   "display_name": ".venv",
   "language": "python",
   "name": "python3"
  },
  "language_info": {
   "codemirror_mode": {
    "name": "ipython",
    "version": 3
   },
   "file_extension": ".py",
   "mimetype": "text/x-python",
   "name": "python",
   "nbconvert_exporter": "python",
   "pygments_lexer": "ipython3",
   "version": "3.13.2"
  }
 },
 "nbformat": 4,
 "nbformat_minor": 2
}
